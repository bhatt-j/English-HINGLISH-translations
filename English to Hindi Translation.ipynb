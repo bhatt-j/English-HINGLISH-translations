{
 "cells": [
  {
   "cell_type": "code",
   "execution_count": null,
   "id": "3de92508",
   "metadata": {},
   "outputs": [],
   "source": [
    "!pip install git+https://github.com/huggingface/transformers -q"
   ]
  },
  {
   "cell_type": "code",
   "execution_count": 1,
   "id": "1ffa882f",
   "metadata": {},
   "outputs": [
    {
     "name": "stderr",
     "output_type": "stream",
     "text": [
      "\n",
      "[notice] A new release of pip is available: 23.1.2 -> 23.2.1\n",
      "[notice] To update, run: python.exe -m pip install --upgrade pip\n"
     ]
    }
   ],
   "source": [
    "!pip install transformers -U -q"
   ]
  },
  {
   "cell_type": "code",
   "execution_count": 2,
   "id": "bc57b1ae",
   "metadata": {},
   "outputs": [
    {
     "name": "stdout",
     "output_type": "stream",
     "text": [
      "Collecting sentencepiece\n",
      "  Downloading sentencepiece-0.1.99-cp310-cp310-win_amd64.whl (977 kB)\n",
      "                                              0.0/977.5 kB ? eta -:--:--\n",
      "                                              0.0/977.5 kB ? eta -:--:--\n",
      "                                              0.0/977.5 kB ? eta -:--:--\n",
      "                                              0.0/977.5 kB ? eta -:--:--\n",
      "                                              0.0/977.5 kB ? eta -:--:--\n",
      "                                              0.0/977.5 kB ? eta -:--:--\n",
      "                                              0.0/977.5 kB ? eta -:--:--\n",
      "                                              0.0/977.5 kB ? eta -:--:--\n",
      "                                              10.2/977.5 kB ? eta -:--:--\n",
      "     -                                       30.7/977.5 kB 1.3 MB/s eta 0:00:01\n",
      "     -                                       30.7/977.5 kB 1.3 MB/s eta 0:00:01\n",
      "     -                                       30.7/977.5 kB 1.3 MB/s eta 0:00:01\n",
      "     -                                     41.0/977.5 kB 178.6 kB/s eta 0:00:06\n",
      "     -                                     41.0/977.5 kB 178.6 kB/s eta 0:00:06\n",
      "     -                                     41.0/977.5 kB 178.6 kB/s eta 0:00:06\n",
      "     -                                     41.0/977.5 kB 178.6 kB/s eta 0:00:06\n",
      "     --                                    61.4/977.5 kB 130.9 kB/s eta 0:00:07\n",
      "     --                                    61.4/977.5 kB 130.9 kB/s eta 0:00:07\n",
      "     --                                    61.4/977.5 kB 130.9 kB/s eta 0:00:07\n",
      "     --                                    61.4/977.5 kB 130.9 kB/s eta 0:00:07\n",
      "     --                                    61.4/977.5 kB 130.9 kB/s eta 0:00:07\n",
      "     --                                    61.4/977.5 kB 130.9 kB/s eta 0:00:07\n",
      "     --                                    61.4/977.5 kB 130.9 kB/s eta 0:00:07\n",
      "     --                                    61.4/977.5 kB 130.9 kB/s eta 0:00:07\n",
      "     --                                     71.7/977.5 kB 70.2 kB/s eta 0:00:13\n",
      "     --                                     71.7/977.5 kB 70.2 kB/s eta 0:00:13\n",
      "     --                                     71.7/977.5 kB 70.2 kB/s eta 0:00:13\n",
      "     --                                     71.7/977.5 kB 70.2 kB/s eta 0:00:13\n",
      "     --                                     71.7/977.5 kB 70.2 kB/s eta 0:00:13\n",
      "     --                                     71.7/977.5 kB 70.2 kB/s eta 0:00:13\n",
      "     --                                     71.7/977.5 kB 70.2 kB/s eta 0:00:13\n",
      "     ----                                  112.6/977.5 kB 86.2 kB/s eta 0:00:11\n",
      "     ----                                  112.6/977.5 kB 86.2 kB/s eta 0:00:11\n",
      "     ----                                  112.6/977.5 kB 86.2 kB/s eta 0:00:11\n",
      "     ----                                  122.9/977.5 kB 84.8 kB/s eta 0:00:11\n",
      "     ----                                  122.9/977.5 kB 84.8 kB/s eta 0:00:11\n",
      "     ----                                  122.9/977.5 kB 84.8 kB/s eta 0:00:11\n",
      "     ----                                  122.9/977.5 kB 84.8 kB/s eta 0:00:11\n",
      "     ----                                  122.9/977.5 kB 84.8 kB/s eta 0:00:11\n",
      "     -----                                 143.4/977.5 kB 81.9 kB/s eta 0:00:11\n",
      "     -----                                 143.4/977.5 kB 81.9 kB/s eta 0:00:11\n",
      "     -----                                 143.4/977.5 kB 81.9 kB/s eta 0:00:11\n",
      "     -----                                 143.4/977.5 kB 81.9 kB/s eta 0:00:11\n",
      "     -----                                 143.4/977.5 kB 81.9 kB/s eta 0:00:11\n",
      "     -----                                 153.6/977.5 kB 75.8 kB/s eta 0:00:11\n",
      "     -----                                 153.6/977.5 kB 75.8 kB/s eta 0:00:11\n",
      "     -----                                 153.6/977.5 kB 75.8 kB/s eta 0:00:11\n",
      "     -----                                 153.6/977.5 kB 75.8 kB/s eta 0:00:11\n",
      "     ------                                174.1/977.5 kB 79.4 kB/s eta 0:00:11\n",
      "     ------                                174.1/977.5 kB 79.4 kB/s eta 0:00:11\n",
      "     ------                                174.1/977.5 kB 79.4 kB/s eta 0:00:11\n",
      "     ------                                174.1/977.5 kB 79.4 kB/s eta 0:00:11\n",
      "     -------                               194.6/977.5 kB 80.8 kB/s eta 0:00:10\n",
      "     -------                               194.6/977.5 kB 80.8 kB/s eta 0:00:10\n",
      "     -------                               194.6/977.5 kB 80.8 kB/s eta 0:00:10\n",
      "     -------                               194.6/977.5 kB 80.8 kB/s eta 0:00:10\n",
      "     -------                               204.8/977.5 kB 78.3 kB/s eta 0:00:10\n",
      "     -------                               204.8/977.5 kB 78.3 kB/s eta 0:00:10\n",
      "     --------                              225.3/977.5 kB 81.4 kB/s eta 0:00:10\n",
      "     --------                              225.3/977.5 kB 81.4 kB/s eta 0:00:10\n",
      "     --------                              225.3/977.5 kB 81.4 kB/s eta 0:00:10\n",
      "     --------                              225.3/977.5 kB 81.4 kB/s eta 0:00:10\n",
      "     --------                              235.5/977.5 kB 79.7 kB/s eta 0:00:10\n",
      "     --------                              235.5/977.5 kB 79.7 kB/s eta 0:00:10\n",
      "     --------                              235.5/977.5 kB 79.7 kB/s eta 0:00:10\n",
      "     --------                              235.5/977.5 kB 79.7 kB/s eta 0:00:10\n",
      "     ---------                             256.0/977.5 kB 80.2 kB/s eta 0:00:09\n",
      "     ---------                             256.0/977.5 kB 80.2 kB/s eta 0:00:09\n",
      "     ---------                             256.0/977.5 kB 80.2 kB/s eta 0:00:09\n",
      "     ---------                             256.0/977.5 kB 80.2 kB/s eta 0:00:09\n",
      "     ---------                             256.0/977.5 kB 80.2 kB/s eta 0:00:09\n",
      "     ----------                            276.5/977.5 kB 82.3 kB/s eta 0:00:09\n",
      "     ----------                            276.5/977.5 kB 82.3 kB/s eta 0:00:09\n",
      "     ----------                            276.5/977.5 kB 82.3 kB/s eta 0:00:09\n",
      "     ----------                            286.7/977.5 kB 80.1 kB/s eta 0:00:09\n",
      "     ----------                            286.7/977.5 kB 80.1 kB/s eta 0:00:09\n",
      "     ----------                            286.7/977.5 kB 80.1 kB/s eta 0:00:09\n",
      "     -----------                           307.2/977.5 kB 81.9 kB/s eta 0:00:09\n",
      "     -----------                           307.2/977.5 kB 81.9 kB/s eta 0:00:09\n",
      "     -----------                           307.2/977.5 kB 81.9 kB/s eta 0:00:09\n",
      "     -----------                           307.2/977.5 kB 81.9 kB/s eta 0:00:09\n",
      "     ------------                          317.4/977.5 kB 80.2 kB/s eta 0:00:09\n",
      "     ------------                          317.4/977.5 kB 80.2 kB/s eta 0:00:09\n",
      "     ------------                          337.9/977.5 kB 81.9 kB/s eta 0:00:08\n",
      "     ------------                          337.9/977.5 kB 81.9 kB/s eta 0:00:08\n",
      "     ------------                          337.9/977.5 kB 81.9 kB/s eta 0:00:08\n",
      "     ------------                          337.9/977.5 kB 81.9 kB/s eta 0:00:08\n",
      "     ------------                          337.9/977.5 kB 81.9 kB/s eta 0:00:08\n",
      "     -------------                         358.4/977.5 kB 83.5 kB/s eta 0:00:08\n",
      "     -------------                         358.4/977.5 kB 83.5 kB/s eta 0:00:08\n",
      "     -------------                         358.4/977.5 kB 83.5 kB/s eta 0:00:08\n",
      "     -------------                         368.6/977.5 kB 82.8 kB/s eta 0:00:08\n",
      "     -------------                         368.6/977.5 kB 82.8 kB/s eta 0:00:08\n",
      "     -------------                         368.6/977.5 kB 82.8 kB/s eta 0:00:08\n",
      "     -------------                         368.6/977.5 kB 82.8 kB/s eta 0:00:08\n",
      "     --------------                        389.1/977.5 kB 83.0 kB/s eta 0:00:08\n",
      "     ---------------                       399.4/977.5 kB 83.8 kB/s eta 0:00:07\n",
      "     ---------------                       399.4/977.5 kB 83.8 kB/s eta 0:00:07\n",
      "     ---------------                       399.4/977.5 kB 83.8 kB/s eta 0:00:07\n",
      "     ---------------                       399.4/977.5 kB 83.8 kB/s eta 0:00:07\n",
      "     ---------------                       409.6/977.5 kB 82.2 kB/s eta 0:00:07\n",
      "     ---------------                       409.6/977.5 kB 82.2 kB/s eta 0:00:07\n",
      "     ----------------                      430.1/977.5 kB 84.0 kB/s eta 0:00:07\n",
      "     ----------------                      430.1/977.5 kB 84.0 kB/s eta 0:00:07\n",
      "     ----------------                      430.1/977.5 kB 84.0 kB/s eta 0:00:07\n",
      "     ----------------                      430.1/977.5 kB 84.0 kB/s eta 0:00:07\n",
      "     ----------------                      430.1/977.5 kB 84.0 kB/s eta 0:00:07\n",
      "     ----------------                      430.1/977.5 kB 84.0 kB/s eta 0:00:07\n",
      "     -----------------                     450.6/977.5 kB 84.1 kB/s eta 0:00:07\n",
      "     -----------------                     450.6/977.5 kB 84.1 kB/s eta 0:00:07\n",
      "     -----------------                     450.6/977.5 kB 84.1 kB/s eta 0:00:07\n",
      "     -----------------                     460.8/977.5 kB 82.6 kB/s eta 0:00:07\n",
      "     -----------------                     460.8/977.5 kB 82.6 kB/s eta 0:00:07\n",
      "     ------------------                    481.3/977.5 kB 84.9 kB/s eta 0:00:06\n",
      "     ------------------                    481.3/977.5 kB 84.9 kB/s eta 0:00:06\n",
      "     ------------------                    481.3/977.5 kB 84.9 kB/s eta 0:00:06\n",
      "     ------------------                    491.5/977.5 kB 83.7 kB/s eta 0:00:06\n",
      "     ------------------                    491.5/977.5 kB 83.7 kB/s eta 0:00:06\n",
      "     -------------------                   512.0/977.5 kB 85.6 kB/s eta 0:00:06\n",
      "     -------------------                   512.0/977.5 kB 85.6 kB/s eta 0:00:06\n",
      "     -------------------                   512.0/977.5 kB 85.6 kB/s eta 0:00:06\n",
      "     --------------------                  532.5/977.5 kB 86.8 kB/s eta 0:00:06\n",
      "     --------------------                  532.5/977.5 kB 86.8 kB/s eta 0:00:06\n",
      "     --------------------                  542.7/977.5 kB 86.9 kB/s eta 0:00:06\n",
      "     --------------------                  542.7/977.5 kB 86.9 kB/s eta 0:00:06\n",
      "     --------------------                  542.7/977.5 kB 86.9 kB/s eta 0:00:06\n",
      "     --------------------                  542.7/977.5 kB 86.9 kB/s eta 0:00:06\n",
      "     ---------------------                 563.2/977.5 kB 87.6 kB/s eta 0:00:05\n",
      "     ---------------------                 563.2/977.5 kB 87.6 kB/s eta 0:00:05\n",
      "     ---------------------                 573.4/977.5 kB 87.3 kB/s eta 0:00:05\n",
      "     ----------------------                593.9/977.5 kB 89.4 kB/s eta 0:00:05\n",
      "     ----------------------                593.9/977.5 kB 89.4 kB/s eta 0:00:05\n",
      "     -----------------------               614.4/977.5 kB 90.6 kB/s eta 0:00:05\n",
      "     -----------------------               614.4/977.5 kB 90.6 kB/s eta 0:00:05\n",
      "     -----------------------               624.6/977.5 kB 90.8 kB/s eta 0:00:04\n",
      "     -----------------------               624.6/977.5 kB 90.8 kB/s eta 0:00:04\n",
      "     ------------------------              645.1/977.5 kB 92.1 kB/s eta 0:00:04\n",
      "     ------------------------              645.1/977.5 kB 92.1 kB/s eta 0:00:04\n",
      "     ------------------------              655.4/977.5 kB 92.2 kB/s eta 0:00:04\n",
      "     ------------------------              655.4/977.5 kB 92.2 kB/s eta 0:00:04\n",
      "     -------------------------             675.8/977.5 kB 94.0 kB/s eta 0:00:04\n",
      "     -------------------------             675.8/977.5 kB 94.0 kB/s eta 0:00:04\n",
      "     -------------------------             675.8/977.5 kB 94.0 kB/s eta 0:00:04\n",
      "     --------------------------            696.3/977.5 kB 95.0 kB/s eta 0:00:03\n",
      "     --------------------------            696.3/977.5 kB 95.0 kB/s eta 0:00:03\n",
      "     --------------------------            706.6/977.5 kB 95.2 kB/s eta 0:00:03\n",
      "     ---------------------------           727.0/977.5 kB 97.4 kB/s eta 0:00:03\n",
      "     ---------------------------           737.3/977.5 kB 97.7 kB/s eta 0:00:03\n",
      "     ---------------------------           737.3/977.5 kB 97.7 kB/s eta 0:00:03\n",
      "     ----------------------------          757.8/977.5 kB 98.8 kB/s eta 0:00:03\n",
      "     ----------------------------         778.2/977.5 kB 100.5 kB/s eta 0:00:02\n",
      "     -----------------------------        788.5/977.5 kB 101.0 kB/s eta 0:00:02\n",
      "     -----------------------------        788.5/977.5 kB 101.0 kB/s eta 0:00:02\n",
      "     -----------------------------        809.0/977.5 kB 102.7 kB/s eta 0:00:02\n",
      "     -----------------------------        809.0/977.5 kB 102.7 kB/s eta 0:00:02\n",
      "     ------------------------------       839.7/977.5 kB 104.3 kB/s eta 0:00:02\n",
      "     ------------------------------       839.7/977.5 kB 104.3 kB/s eta 0:00:02\n",
      "     -------------------------------      860.2/977.5 kB 106.0 kB/s eta 0:00:02\n",
      "     --------------------------------     870.4/977.5 kB 106.5 kB/s eta 0:00:02\n",
      "     --------------------------------     870.4/977.5 kB 106.5 kB/s eta 0:00:02\n",
      "     --------------------------------     890.9/977.5 kB 108.0 kB/s eta 0:00:01\n",
      "     ---------------------------------    901.1/977.5 kB 108.6 kB/s eta 0:00:01\n",
      "     ---------------------------------    901.1/977.5 kB 108.6 kB/s eta 0:00:01\n",
      "     ---------------------------------    921.6/977.5 kB 109.8 kB/s eta 0:00:01\n",
      "     ----------------------------------   942.1/977.5 kB 111.7 kB/s eta 0:00:01\n",
      "     -----------------------------------  952.3/977.5 kB 112.3 kB/s eta 0:00:01\n",
      "     -----------------------------------  972.8/977.5 kB 113.7 kB/s eta 0:00:01\n",
      "     ------------------------------------ 977.5/977.5 kB 113.8 kB/s eta 0:00:00\n",
      "Installing collected packages: sentencepiece\n",
      "Successfully installed sentencepiece-0.1.99\n"
     ]
    },
    {
     "name": "stderr",
     "output_type": "stream",
     "text": [
      "\n",
      "[notice] A new release of pip is available: 23.1.2 -> 23.2.1\n",
      "[notice] To update, run: python.exe -m pip install --upgrade pip\n"
     ]
    }
   ],
   "source": [
    "!pip install sentencepiece"
   ]
  },
  {
   "cell_type": "code",
   "execution_count": 4,
   "id": "27b41f8d",
   "metadata": {},
   "outputs": [
    {
     "name": "stdout",
     "output_type": "stream",
     "text": [
      "transformers==4.31.0\n"
     ]
    }
   ],
   "source": [
    "!pip freeze | findstr transformers"
   ]
  },
  {
   "cell_type": "code",
   "execution_count": 5,
   "id": "0eba0f3a",
   "metadata": {},
   "outputs": [],
   "source": [
    "from transformers import MBartForConditionalGeneration, MBart50TokenizerFast"
   ]
  },
  {
   "cell_type": "code",
   "execution_count": 6,
   "id": "4cfaa00a",
   "metadata": {},
   "outputs": [
    {
     "data": {
      "application/vnd.jupyter.widget-view+json": {
       "model_id": "2f6aab6acae7470fb692739737101e9f",
       "version_major": 2,
       "version_minor": 0
      },
      "text/plain": [
       "Downloading (…)lve/main/config.json:   0%|          | 0.00/1.43k [00:00<?, ?B/s]"
      ]
     },
     "metadata": {},
     "output_type": "display_data"
    },
    {
     "name": "stderr",
     "output_type": "stream",
     "text": [
      "C:\\Users\\Admin\\anaconda3\\lib\\site-packages\\huggingface_hub\\file_download.py:133: UserWarning: `huggingface_hub` cache-system uses symlinks by default to efficiently store duplicated files but your machine does not support them in C:\\Users\\Admin\\.cache\\huggingface\\hub. Caching files will still work but in a degraded version that might require more space on your disk. This warning can be disabled by setting the `HF_HUB_DISABLE_SYMLINKS_WARNING` environment variable. For more details, see https://huggingface.co/docs/huggingface_hub/how-to-cache#limitations.\n",
      "To support symlinks on Windows, you either need to activate Developer Mode or to run Python as an administrator. In order to see activate developer mode, see this article: https://docs.microsoft.com/en-us/windows/apps/get-started/enable-your-device-for-development\n",
      "  warnings.warn(message)\n"
     ]
    },
    {
     "data": {
      "application/vnd.jupyter.widget-view+json": {
       "model_id": "7056bcf8c54c46c887d500fa0521ca95",
       "version_major": 2,
       "version_minor": 0
      },
      "text/plain": [
       "Downloading pytorch_model.bin:   0%|          | 0.00/2.44G [00:00<?, ?B/s]"
      ]
     },
     "metadata": {},
     "output_type": "display_data"
    },
    {
     "data": {
      "application/vnd.jupyter.widget-view+json": {
       "model_id": "de9c0bbc016e4cfcb1b665a6b2675695",
       "version_major": 2,
       "version_minor": 0
      },
      "text/plain": [
       "Downloading (…)neration_config.json:   0%|          | 0.00/261 [00:00<?, ?B/s]"
      ]
     },
     "metadata": {},
     "output_type": "display_data"
    }
   ],
   "source": [
    "model = MBartForConditionalGeneration.from_pretrained(\"facebook/mbart-large-50-one-to-many-mmt\")"
   ]
  },
  {
   "cell_type": "code",
   "execution_count": 10,
   "id": "a3a095ee",
   "metadata": {},
   "outputs": [
    {
     "data": {
      "application/vnd.jupyter.widget-view+json": {
       "model_id": "badb1e0188fc4ad0a0254902df3bc32d",
       "version_major": 2,
       "version_minor": 0
      },
      "text/plain": [
       "Downloading (…)okenizer_config.json:   0%|          | 0.00/528 [00:00<?, ?B/s]"
      ]
     },
     "metadata": {},
     "output_type": "display_data"
    },
    {
     "data": {
      "application/vnd.jupyter.widget-view+json": {
       "model_id": "b8bf14ebff10472bb3fc51a7dd685bb1",
       "version_major": 2,
       "version_minor": 0
      },
      "text/plain": [
       "Downloading (…)tencepiece.bpe.model:   0%|          | 0.00/5.07M [00:00<?, ?B/s]"
      ]
     },
     "metadata": {},
     "output_type": "display_data"
    },
    {
     "data": {
      "application/vnd.jupyter.widget-view+json": {
       "model_id": "32e2ac50872c4c348dbe5999e834d313",
       "version_major": 2,
       "version_minor": 0
      },
      "text/plain": [
       "Downloading (…)cial_tokens_map.json:   0%|          | 0.00/717 [00:00<?, ?B/s]"
      ]
     },
     "metadata": {},
     "output_type": "display_data"
    }
   ],
   "source": [
    "tokenizer = MBart50TokenizerFast.from_pretrained(\"facebook/mbart-large-50-one-to-many-mmt\", src_lang=\"en_XX\")"
   ]
  },
  {
   "cell_type": "code",
   "execution_count": 11,
   "id": "37062738",
   "metadata": {},
   "outputs": [],
   "source": [
    "article_en = \"U.N encourages wearing masks\""
   ]
  },
  {
   "cell_type": "code",
   "execution_count": 12,
   "id": "e6bd33c0",
   "metadata": {},
   "outputs": [],
   "source": [
    "model_inputs = tokenizer(article_en, return_tensors = \"pt\")"
   ]
  },
  {
   "cell_type": "code",
   "execution_count": 14,
   "id": "bc580e01",
   "metadata": {},
   "outputs": [],
   "source": [
    "# Translation to HINDI\n",
    "generated_tokens = model.generate(**model_inputs, \n",
    "                                  forced_bos_token_id = tokenizer.lang_code_to_id[\"hi_IN\"]\n",
    ")"
   ]
  },
  {
   "cell_type": "code",
   "execution_count": null,
   "id": "c251f0d6",
   "metadata": {},
   "outputs": [],
   "source": [
    "translation_hi = tokenizer.batch_decode(generated_tokens, skip_special_tokens = True)\n",
    "translation_hi"
   ]
  },
  {
   "cell_type": "code",
   "execution_count": null,
   "id": "7a9e47c5",
   "metadata": {},
   "outputs": [],
   "source": [
    "# Translation to HINDI\n",
    "generated_tokens = model.generate(**model_inputs, \n",
    "                                  forced_bos_token_id = tokenizer.lang_code_to_id[\"te_IN\"]\n",
    ")"
   ]
  },
  {
   "cell_type": "code",
   "execution_count": null,
   "id": "1fb3c426",
   "metadata": {},
   "outputs": [],
   "source": [
    "translation_te = tokenizer.batch_decode(generated_tokens, skip_special_tokens = True)\n",
    "translation_te"
   ]
  }
 ],
 "metadata": {
  "kernelspec": {
   "display_name": "Python 3 (ipykernel)",
   "language": "python",
   "name": "python3"
  },
  "language_info": {
   "codemirror_mode": {
    "name": "ipython",
    "version": 3
   },
   "file_extension": ".py",
   "mimetype": "text/x-python",
   "name": "python",
   "nbconvert_exporter": "python",
   "pygments_lexer": "ipython3",
   "version": "3.10.9"
  }
 },
 "nbformat": 4,
 "nbformat_minor": 5
}
