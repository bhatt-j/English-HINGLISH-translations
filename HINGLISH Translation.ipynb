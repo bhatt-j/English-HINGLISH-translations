{
 "cells": [
  {
   "cell_type": "code",
   "execution_count": 1,
   "id": "97d56c07",
   "metadata": {},
   "outputs": [],
   "source": [
    "from transformers import MarianMTModel, MarianTokenizer\n",
    "import nltk\n",
    "from nltk.tokenize import word_tokenize\n",
    "from nltk.tag import pos_tag\n",
    "import re"
   ]
  },
  {
   "cell_type": "code",
   "execution_count": 2,
   "id": "6b73637c",
   "metadata": {},
   "outputs": [
    {
     "name": "stderr",
     "output_type": "stream",
     "text": [
      "C:\\Users\\Admin\\anaconda3\\lib\\site-packages\\transformers\\models\\marian\\tokenization_marian.py:194: UserWarning: Recommended: pip install sacremoses.\n",
      "  warnings.warn(\"Recommended: pip install sacremoses.\")\n"
     ]
    }
   ],
   "source": [
    "model = MarianMTModel.from_pretrained(\"Helsinki-NLP/opus-mt-en-hi\")\n",
    "tokenizer = MarianTokenizer.from_pretrained(\"Helsinki-NLP/opus-mt-en-hi\")"
   ]
  },
  {
   "cell_type": "code",
   "execution_count": 3,
   "id": "2148f0bd",
   "metadata": {},
   "outputs": [],
   "source": [
    "def spot_nouns(en_article):\n",
    "    words = word_tokenize(en_article)\n",
    "    tagged_words = pos_tag(words)\n",
    "    nouns = [words for words, pos in tagged_words if pos.startswith('NN')]\n",
    "    translated_nouns = {} # dictionary to store english and HINGLISH nouns\n",
    "    for noun in nouns:\n",
    "        translated_noun = hi_translation(noun)\n",
    "        hinglish_noun = hinglish_translate(translated_noun)\n",
    "        translated_nouns[noun] = hinglish_noun        \n",
    "    return translated_nouns"
   ]
  },
  {
   "cell_type": "code",
   "execution_count": 4,
   "id": "c2323509",
   "metadata": {},
   "outputs": [],
   "source": [
    "# English to Hindi Translation\n",
    "def hi_translation(en_article):\n",
    "    inputs = tokenizer.encode(en_article, return_tensors=\"pt\")\n",
    "    translated_id = model.generate(inputs, max_length=150, num_return_sequences=1, num_beams=4)\n",
    "    translated_output=tokenizer.decode(translated_id[0], skip_special_tokens=True)  \n",
    "    translated_output = translated_output.replace('\\u200d', '') # handle ZWJ characters\n",
    "    return translated_output"
   ]
  },
  {
   "cell_type": "code",
   "execution_count": 14,
   "id": "7b818e9f",
   "metadata": {},
   "outputs": [],
   "source": [
    "# Hindi to English Transliteration \n",
    "def hinglish_translate(hi_text):\n",
    "    consonant = {'क':['ka','k'],'ख':['kha','kh'],'ग':['ga','g'],'घ':['gha','gh'],'च':['cha','ch'],'छ':['chha','chh'],'ज':['ja','j'],'झ':['jha','jh'],'ट':['ta','t'],'ठ':['tha','th'],'ड':['da','d'],'ढ':['dha','dh'],'ण':['nda', 'nd'],'त':['ta','t'],'थ':['tha','th'],'द':['da','d'],'ध':['dha','dh'],'न':['na','n'],'प':['pa','p'],'फ':['pha','ph'],'ब':['ba','b'],'भ':['bha','bh'],'म':['ma','m'],'य':['ya','y'],'र':['ra','r'],'ल':['la','l'],'व':['va','v'],'श':['sha','sh'],'ष':['shha','shh'],'स':['sa','s'],'ह':['ha','h'],'ञ':['gya','gy'],'ण':['da','d']}\n",
    "    vowel = {'अ':['a'],'आ':['aa'],'इ':['e'],'ई':['e'],'उ':['u'],'ऊ':['u'],'ए':['e'],'ऐ':['ae'],'ओ':['o'],'औ':['ao'],'ा':['a'],'ि':['i'],'ी':['ee'],'ु':['u'],'ू':['u'],'े':['e'],'ै':['ae'],'ो':['o'],'ौ':['ao'],'ं':['n'],'ँ':['n'],'्':['a'], '़':[''],'ः':['ah'], '।': ['.']}\n",
    "    words = hi_text.split(' ')\n",
    "    hinglish = ''\n",
    "    for j in range(len(words)):\n",
    "        w = words[j]\n",
    "        for i in range(len(w)):\n",
    "            char = w[i]            \n",
    "            if char in vowel:\n",
    "                hinglish += vowel[char][0]\n",
    "            elif char in consonant:\n",
    "                if i+1 == len(w) or i+1 < len(w) and w[i+1] in vowel:\n",
    "                    hinglish += consonant[char][1]\n",
    "                else:\n",
    "                    hinglish += consonant[char][0]\n",
    "            else:\n",
    "                hinglish += char\n",
    "        hinglish += ' '\n",
    "    hinglish = hinglish.replace('\\u200d', '') # handle ZWJ characters\n",
    "    return hinglish.strip()"
   ]
  },
  {
   "cell_type": "code",
   "execution_count": 12,
   "id": "4b1d33f2",
   "metadata": {},
   "outputs": [],
   "source": [
    "# Switching Hindi nouns to English nouns to keep certain words in English\n",
    "def noun_switch(nouns, hinglish_text):\n",
    "    for key, value in nouns.items():\n",
    "        matches = re.findall(r'\\b' + re.escape(value) + r'\\b', hinglish_text)    \n",
    "        for match in matches:\n",
    "            hinglish_text = hinglish_text.replace(match, key)\n",
    "    return hinglish_text"
   ]
  },
  {
   "cell_type": "code",
   "execution_count": 20,
   "id": "d24370b8",
   "metadata": {},
   "outputs": [
    {
     "name": "stdout",
     "output_type": "stream",
     "text": [
      "INPUT : Definitely share your feedback in the comment section.\n",
      "\n",
      "OUTPUT :  comment khadad men apanee paratikariya ko nishachit hee share karen .\n"
     ]
    }
   ],
   "source": [
    "# SENTENCE 1\n",
    "en_article = input(\"INPUT : \")\n",
    "nouns = spot_nouns(en_article)\n",
    "hi_text = hi_translation(en_article)\n",
    "hinglish_text = hinglish_translate(hi_text)\n",
    "output = noun_switch(nouns, hinglish_text)\n",
    "\n",
    "print(\"\\nOUTPUT : \", output)"
   ]
  },
  {
   "cell_type": "code",
   "execution_count": 21,
   "id": "49e713ec",
   "metadata": {},
   "outputs": [
    {
     "name": "stdout",
     "output_type": "stream",
     "text": [
      "INPUT : So even if it's a big video, I will clearly mention all the products. \n",
      "\n",
      "OUTPUT :  to yah ek bada video hae, to bhee maen sapashhat rup se sabhee utapadon ka ulalekh karenge.\n"
     ]
    }
   ],
   "source": [
    "# SENTENCE 2\n",
    "en_article = input(\"INPUT : \")\n",
    "nouns = spot_nouns(en_article)\n",
    "hi_text = hi_translation(en_article)\n",
    "hinglish_text = hinglish_translate(hi_text)\n",
    "output = noun_switch(nouns, hinglish_text)\n",
    "\n",
    "print(\"\\nOUTPUT : \", output)"
   ]
  },
  {
   "cell_type": "code",
   "execution_count": 22,
   "id": "37e489f6",
   "metadata": {},
   "outputs": [
    {
     "name": "stdout",
     "output_type": "stream",
     "text": [
      "INPUT : I was waiting for my bag.\n",
      "\n",
      "OUTPUT :  maen apane baeg ke lie entajar kar raha tha.\n"
     ]
    }
   ],
   "source": [
    "# SENTENCE 3\n",
    "en_article = input(\"INPUT : \")\n",
    "nouns = spot_nouns(en_article)\n",
    "hi_text = hi_translation(en_article)\n",
    "hinglish_text = hinglish_translate(hi_text)\n",
    "output = noun_switch(nouns, hinglish_text)\n",
    "\n",
    "print(\"\\nOUTPUT : \", output)"
   ]
  }
 ],
 "metadata": {
  "kernelspec": {
   "display_name": "Python 3 (ipykernel)",
   "language": "python",
   "name": "python3"
  },
  "language_info": {
   "codemirror_mode": {
    "name": "ipython",
    "version": 3
   },
   "file_extension": ".py",
   "mimetype": "text/x-python",
   "name": "python",
   "nbconvert_exporter": "python",
   "pygments_lexer": "ipython3",
   "version": "3.10.9"
  }
 },
 "nbformat": 4,
 "nbformat_minor": 5
}
